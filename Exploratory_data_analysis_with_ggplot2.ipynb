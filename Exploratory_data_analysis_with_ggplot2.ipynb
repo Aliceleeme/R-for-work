{
 "cells": [
  {
   "cell_type": "markdown",
   "metadata": {},
   "source": [
    "Exploratory data analysis with tidyverse, data.table, plyr and gglpt2\n",
    "=======\n",
    "\n",
    "Data Preprocessing\n",
    "----------"
   ]
  },
  {
   "cell_type": "code",
   "execution_count": 1,
   "metadata": {
    "scrolled": false
   },
   "outputs": [
    {
     "data": {
      "text/html": [
       "'/Users/jihye/Documents/6. Python:R codes '"
      ],
      "text/latex": [
       "'/Users/jihye/Documents/6. Python:R codes '"
      ],
      "text/markdown": [
       "'/Users/jihye/Documents/6. Python:R codes '"
      ],
      "text/plain": [
       "[1] \"/Users/jihye/Documents/6. Python:R codes \""
      ]
     },
     "metadata": {},
     "output_type": "display_data"
    },
    {
     "name": "stderr",
     "output_type": "stream",
     "text": [
      "Loading tidyverse: ggplot2\n",
      "Loading tidyverse: tibble\n",
      "Loading tidyverse: tidyr\n",
      "Loading tidyverse: readr\n",
      "Loading tidyverse: purrr\n",
      "Loading tidyverse: dplyr\n",
      "Conflicts with tidy packages ---------------------------------------------------\n",
      "filter(): dplyr, stats\n",
      "lag():    dplyr, stats\n",
      "Parsed with column specification:\n",
      "cols(\n",
      "  id = col_character(),\n",
      "  device_os = col_character(),\n",
      "  age_group = col_character(),\n",
      "  install_type = col_character()\n",
      ")\n",
      "Parsed with column specification:\n",
      "cols(\n",
      "  timestamp = col_datetime(format = \"\"),\n",
      "  user_id = col_character(),\n",
      "  event = col_character(),\n",
      "  item_id = col_integer()\n",
      ")\n",
      "Parsed with column specification:\n",
      "cols(\n",
      "  id = col_integer(),\n",
      "  price = col_double(),\n",
      "  category_id = col_integer()\n",
      ")\n"
     ]
    },
    {
     "ename": "ERROR",
     "evalue": "Error in hour(data_merge$timestamp): 함수 \"hour\"를 찾을 수 없습니다\n",
     "output_type": "error",
     "traceback": [
      "Error in hour(data_merge$timestamp): 함수 \"hour\"를 찾을 수 없습니다\nTraceback:\n"
     ]
    }
   ],
   "source": [
    "#### 데이터 전처리 단계 #### \n",
    "\n",
    "getwd()\n",
    "setwd(\"/Users/jihye/Downloads\")\n",
    "\n",
    "library(\"tidyverse\")\n",
    "user <- read_csv(\"user_infos.csv\") \n",
    "event <- read_csv(\"event_logs.csv\")\n",
    "item <- read_csv(\"item_infos.csv\")\n",
    "\n",
    "#head(user)\n",
    "#head(event)\n",
    "#head(item)\n",
    "\n",
    "colnames(user) <- c(\"user_id\", \"device_os\", \"age_group\", \"install_type\")\n",
    "colnames(item) <- c(\"item_id\", \"price\", \"category_id\")\n",
    "\n",
    "#### data merging #### \n",
    "library(\"dplyr\")\n",
    "user_event <- left_join(user, event, by = c('user_id')) \n",
    "data_merge <- right_join(user_event, item, by = c('item_id')) \n",
    "\n",
    "\n",
    "#category_id 기반으로 구입한 상품 종류 매칭하여 삽입\n",
    "data_merge =  data_merge %>%\n",
    "               mutate(ctg_product = ifelse(category_id == 173, \"pants\", \n",
    "                                    ifelse(category_id == 342, \"top\", \n",
    "                                    ifelse(category_id == 769, \"outer\", \n",
    "                                    ifelse(category_id == 806, \"accessory\",  \n",
    "                                    ifelse(category_id == 984, \"bag\", \n",
    "                                    ifelse(category_id == 1007, \"onepiece\", \n",
    "                                    ifelse(category_id == 1069, \"shoes\",\n",
    "                                    ifelse(category_id == 1301, \"skirts\", NA)))))))))\n",
    "\n",
    "#### time data wrangling #### \n",
    "data_merge$date <- as.Date(data_merge$timestamp) \n",
    "data_merge$hour <- hour(data_merge$timestamp) \n",
    "data_merge$time <- format(as.POSIXct(data_merge$timestamp) ,format = \"%H:%M:%S\") \n",
    "\n",
    "#right_join 과정에서 발생한 na값 제거 \n",
    "sum(is.na(data_merge))\n",
    "data_merge <- na.omit(data_merge)\n",
    "\n",
    "#순수 이용자수 측정을 위한 중복 user id 제거 \n",
    "df <- data_merge\n",
    "df = df[!duplicated(df$user_id),]\n",
    "\n",
    "#data_merge 파일 추출 -  중복 user id 포함\n",
    "write.csv(data_merge, \"data_merge.csv\")\n",
    "#data_merge %>% \n",
    "#    write.csv(.,file = \"~/Desktop/data_merge.csv\")\n",
    "\n",
    "view = subset(data_merge, event == \"view\")\n",
    "#general_user = subset(data_merge, event == \"add_to_cart\")\n",
    "pur_user = subset(data_merge, event == \"transaction\") "
   ]
  },
  {
   "cell_type": "code",
   "execution_count": null,
   "metadata": {},
   "outputs": [],
   "source": [
    "#### 분석에 필요한 테이블 데이터 작성 - 뷰어 #### \n",
    "library(\"data.table\") \n",
    "library(\"plyr\")\n",
    "view <- data.table(view) #viewing user 데이터를 데이터 테이블로 변환. 데이터 처리의 효율성을 위해 data.table library 선택 \n",
    "dt <- data.table(df)\n",
    "\n",
    "#연령대별 뷰 품목 분포\n",
    "agectg_view = view[, .N, by = .(age_group, ctg_product)] %>% dcast(age_group ~ ctg_product)\n",
    "view_ctg = count(view,'ctg_product')\n",
    "\n",
    "#어떤 품목을 많이 보는지\n",
    "v_ctg = count(view,'ctg_product')\n",
    "#유입 os 경로 \n",
    "v_os = count(view, 'device_os')\n",
    "#연령대별 사용자 수 \n",
    "view2 = subset(dt, event == \"view\") #user_id 중복값을 제거한 후 view 조건을 충족하는 데이터를 추출 \n",
    "v_agegroup = count(view2, 'age_group')\n"
   ]
  },
  {
   "cell_type": "markdown",
   "metadata": {},
   "source": [
    "Exploratory Data Analysis with the plot\n",
    "------------------------------------ \n"
   ]
  },
  {
   "cell_type": "code",
   "execution_count": null,
   "metadata": {},
   "outputs": [],
   "source": [
    "library(ggplot2)\n",
    "g10 <- ggplot(data = v_agegroup, aes(x = age_group, y = freq, group = age_group)) +\n",
    "       labs(title = \"User distribution\", x = \"product\", y = \"user total\") + \n",
    "       theme(plot.title = element_text(hjust = 0.5)) +\n",
    "       geom_col(aes(fill = age_group), position = \"dodge\") +\n",
    "       geom_text(aes(label = freq), vjust = 1)\n",
    "\n",
    "g10"
   ]
  },
  {
   "cell_type": "code",
   "execution_count": null,
   "metadata": {
    "scrolled": true
   },
   "outputs": [],
   "source": [
    "library(ggplot2)\n",
    "g6 <- ggplot(data = view_ctg, aes(x = ctg_product, y = freq, group = ctg_product)) +\n",
    "       labs(title = \"Total viewing amount by product category\", x = \"product\", y = \"view total\") + \n",
    "       theme(plot.title = element_text(hjust = 0.5)) +\n",
    "       geom_col(aes(fill = ctg_product), position = \"dodge\") +\n",
    "       geom_text(aes(label = freq), vjust = 1)\n",
    "\n",
    "g6"
   ]
  },
  {
   "cell_type": "code",
   "execution_count": null,
   "metadata": {
    "scrolled": false
   },
   "outputs": [],
   "source": [
    "#### 분석에 필요한 테이블 데이터 작성 - 구입자 #### \n",
    "\n",
    "pur_user <- data.table(pur_user)\n",
    "#연령대별 구매액 합계 \n",
    "age = pur_user[, sum(price), by = \"age_group\"]\n",
    "#유입경로 별 구매액 합계 \n",
    "install = pur_user[, sum(price), by = \"install_type\"]\n",
    "#연령대별 구매 발생수 \n",
    "purchase = pur_user[, count(event), by = \"age_group\"]\n",
    "#연령대별 구매 품목 분포\n",
    "agectg = pur_user[, .N, by = .(age_group, ctg_product)] %>% dcast(age_group ~ ctg_product)\n",
    "#ref: https://stackoverflow.com/questions/44373694/how-do-i-compute-the-frequency-table-of-categorical-variables-by-group-with-r-da\n",
    "\n",
    "\n",
    "#어떤 품목 많이 구입하는지 \n",
    "category = count(pur_user,'ctg_product')\n",
    "#유입 os \n",
    "os = count(data_merge, 'device_os')\n",
    "#연령대별 사용자 수 \n",
    "agegroup = count(dt, 'age_group') #중복 id 제외 \n",
    "agegroup_id = count(data_merge, 'age_group') #중복 id 포함"
   ]
  },
  {
   "cell_type": "code",
   "execution_count": null,
   "metadata": {},
   "outputs": [],
   "source": [
    "library(ggplot2)\n",
    "g1 <- ggplot(data = install, aes(x = install_type, y = V1, group = install_type)) +\n",
    "       labs(title = \"Total purchase amount by channel\", x = \"install\", y = \"total\") + \n",
    "       theme(plot.title = element_text(hjust = 0.5)) +\n",
    "       geom_col(aes(fill = install_type), position = \"dodge\") +\n",
    "       geom_text(aes(label = V1), vjust = 1)\n",
    "\n",
    "g1"
   ]
  },
  {
   "cell_type": "code",
   "execution_count": null,
   "metadata": {},
   "outputs": [],
   "source": [
    "g2 <- ggplot(data = age, aes(x = age_group, y = V1, group = age_group)) +\n",
    "       labs(title = \"Total purchase amount by age\", x = \"age\", y = \"total\") + \n",
    "       theme(plot.title = element_text(hjust = 0.5)) +\n",
    "       geom_col(aes(fill = age_group), position = \"dodge\") +\n",
    "       geom_text(aes(label = V1), vjust = 2)\n",
    "g2"
   ]
  },
  {
   "cell_type": "code",
   "execution_count": null,
   "metadata": {},
   "outputs": [],
   "source": [
    "g3 <- ggplot(data = category, aes(x = ctg_product, y = freq, group = ctg_product)) +\n",
    "       labs(title = \"Most purchased products\", x = \"product\", y = \"total\") + \n",
    "       theme(plot.title = element_text(hjust = 0.5)) +\n",
    "       geom_col(aes(fill = ctg_product), position = \"dodge\") +\n",
    "       geom_text(aes(label = freq), vjust = -1)\n",
    "g3"
   ]
  },
  {
   "cell_type": "code",
   "execution_count": null,
   "metadata": {
    "collapsed": true,
    "scrolled": true
   },
   "outputs": [],
   "source": [
    "#### 분석에 필요한 테이블 데이터 작성 - 시간 #### \n",
    "\n",
    "#data_merge$date = date(data_merge$timestamp)  #date의 경우 2017-10-30으로 시간이 동일하여 분석할 수 없었음 \n",
    "\n",
    "hour_count = count(data_merge,\"hour\")\n",
    "pur_hour_c = count(pur_user,\"hour\")\n",
    "view_hour_c = count(view,\"hour\")\n"
   ]
  },
  {
   "cell_type": "code",
   "execution_count": null,
   "metadata": {},
   "outputs": [],
   "source": [
    "gh1 <- ggplot(data = hour_count, aes(x = hour, y = freq, group = hour)) +\n",
    "       labs(title = \"Hour distribution\", x = \"hour\", y = \"total\") + \n",
    "       theme(plot.title = element_text(hjust = 0.5)) +\n",
    "       geom_col(aes(fill = hour), position = \"dodge\") +\n",
    "       geom_text(aes(label = freq), vjust = -1, size=2.3)\n",
    "gh1"
   ]
  },
  {
   "cell_type": "code",
   "execution_count": null,
   "metadata": {},
   "outputs": [],
   "source": [
    "gh3 <- ggplot(data = view_hour_c, aes(x = hour, y = freq, group = hour)) +\n",
    "       labs(title = \"Hour distribution for viewing\", x = \"hour\", y = \"total\") + \n",
    "       theme(plot.title = element_text(hjust = 0.5)) +\n",
    "       geom_col(aes(fill = hour), position = \"dodge\") +\n",
    "       geom_text(aes(label = freq), vjust = -1, size=2.3)\n",
    "gh3"
   ]
  },
  {
   "cell_type": "code",
   "execution_count": null,
   "metadata": {},
   "outputs": [],
   "source": [
    "gh2 <- ggplot(data = pur_hour_c, aes(x = hour, y = freq, group = hour)) +\n",
    "       labs(title = \"Hour distribution for transaction\", x = \"hour\", y = \"total\") + \n",
    "       theme(plot.title = element_text(hjust = 0.5)) +\n",
    "       geom_col(aes(fill = hour), position = \"dodge\") +\n",
    "       geom_text(aes(label = freq), vjust = -1, size=2.3)\n",
    "gh2"
   ]
  }
 ],
 "metadata": {
  "kernelspec": {
   "display_name": "R",
   "language": "R",
   "name": "ir"
  },
  "language_info": {
   "codemirror_mode": "r",
   "file_extension": ".r",
   "mimetype": "text/x-r-source",
   "name": "R",
   "pygments_lexer": "r",
   "version": "3.4.1"
  }
 },
 "nbformat": 4,
 "nbformat_minor": 2
}
